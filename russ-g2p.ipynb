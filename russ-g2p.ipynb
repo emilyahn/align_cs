{
 "cells": [
  {
   "cell_type": "code",
   "execution_count": 2,
   "id": "incoming-inflation",
   "metadata": {},
   "outputs": [],
   "source": [
    "import epitran"
   ]
  },
  {
   "cell_type": "code",
   "execution_count": 3,
   "id": "daily-lesson",
   "metadata": {},
   "outputs": [],
   "source": [
    "epi = epitran.Epitran('rus-Cyrl')"
   ]
  },
  {
   "cell_type": "code",
   "execution_count": 4,
   "id": "growing-indonesian",
   "metadata": {},
   "outputs": [
    {
     "data": {
      "text/plain": [
       "['b', 'a', 'l', 'ʂ', 'a', 'a', 'a']"
      ]
     },
     "execution_count": 4,
     "metadata": {},
     "output_type": "execute_result"
    }
   ],
   "source": [
    "word = 'балшаяа'\n",
    "epi.trans_list(word)"
   ]
  },
  {
   "cell_type": "code",
   "execution_count": null,
   "id": "rational-bottle",
   "metadata": {},
   "outputs": [],
   "source": [
    "# get RUSS dict with Russian-uniq phones and Urum-only phones\n",
    "\n",
    "russ_map_file = 'data/Russ-Latn-XSIPA-map.tsv'\n",
    "russ_dict = {}\n",
    "urum_dict = {}\n",
    "\n",
    "with open(russ_map_file, 'r') as f:\n",
    "    for line in f.readlines()[1:]:\n",
    "        items = line.split('\\t')\n",
    "        russ_dict[items[0]] = items[1]\n",
    "        urum_dict[items[0]] = items[4].strip()"
   ]
  },
  {
   "cell_type": "code",
   "execution_count": null,
   "id": "worst-commitment",
   "metadata": {},
   "outputs": [],
   "source": [
    "russ_orig_file = 'data/russ_words.txt'\n",
    "russ_dict_russ_out_file = 'data/russ_russ-phones_dict.txt'\n",
    "russ_dict_urum_out_file = 'data/russ_urum-phones_dict.txt'\n",
    "dual_list = [(russ_dict, russ_dict_russ_out_file), (urum_dict, russ_dict_urum_out_file)]\n",
    "with open(russ_orig_file, 'r') as f2:\n",
    "    words = [line.strip() for line in f2.readlines()]\n",
    "\n",
    "for lang_dict, dict_out_file in dual_list:\n",
    "    with open(dict_out_file, 'w') as w:\n",
    "        for word in words:\n",
    "            phone_seq = ' '.join([lang_dict.get(char, char) for char in word])\n",
    "            w.write(f'{word}\\t{phone_seq}\\n')"
   ]
  }
 ],
 "metadata": {
  "kernelspec": {
   "display_name": "Python 3",
   "language": "python",
   "name": "python3"
  },
  "language_info": {
   "codemirror_mode": {
    "name": "ipython",
    "version": 3
   },
   "file_extension": ".py",
   "mimetype": "text/x-python",
   "name": "python",
   "nbconvert_exporter": "python",
   "pygments_lexer": "ipython3",
   "version": "3.9.0"
  }
 },
 "nbformat": 4,
 "nbformat_minor": 5
}
