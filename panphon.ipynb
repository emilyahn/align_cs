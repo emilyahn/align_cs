{
 "cells": [
  {
   "cell_type": "code",
   "execution_count": 2,
   "id": "fifth-johns",
   "metadata": {},
   "outputs": [],
   "source": [
    "import panphon.distance"
   ]
  },
  {
   "cell_type": "code",
   "execution_count": 3,
   "id": "architectural-column",
   "metadata": {},
   "outputs": [],
   "source": [
    "dst = panphon.distance.Distance()"
   ]
  },
  {
   "cell_type": "code",
   "execution_count": 4,
   "id": "altered-penny",
   "metadata": {},
   "outputs": [],
   "source": [
    "def closest_phones(target: str, options: list, dist_type: str) -> list:\n",
    "    min_score = 100\n",
    "    best_phones = []\n",
    "    for option in options:\n",
    "        if dist_type == 'feature':\n",
    "            option_score = dst.feature_edit_distance(target, option)\n",
    "        elif dist_type == 'weighted':\n",
    "            option_score = dst.weighted_feature_edit_distance(target, option)\n",
    "        elif dist_type == 'hamming':\n",
    "            option_score = dst.hamming_feature_edit_distance(target, option)\n",
    "        else:\n",
    "            print('Error: Give valid dist_type: {feature, weighted, hamming}')\n",
    "            \n",
    "        if option_score < min_score:\n",
    "            best_phones = [option]\n",
    "            min_score = option_score\n",
    "        elif option_score == min_score:\n",
    "            best_phones.append(option)\n",
    "            min_score = option_score\n",
    "            \n",
    "    return best_phones"
   ]
  },
  {
   "cell_type": "code",
   "execution_count": 5,
   "id": "lesbian-roller",
   "metadata": {},
   "outputs": [],
   "source": [
    "with open('data/map/english_mfa_phones.txt', 'r') as f:\n",
    "    eng_phones = [line.strip() for line in f.readlines()]\n",
    "\n",
    "with open('data/map/russian_mfa_phones.txt', 'r') as f2:\n",
    "    rus_phones = [line.strip() for line in f2.readlines()]"
   ]
  },
  {
   "cell_type": "code",
   "execution_count": 6,
   "id": "primary-constraint",
   "metadata": {},
   "outputs": [],
   "source": [
    "# uniq phones that don't exist in Eng\n",
    "urum_phones = ['dː', 'lː', 'mː', 'r', 'sː', 'tː', 'x', 'y', 'œ', 'ɣ', 'ɯ']\n",
    "russ_not_eng_phones = ['ɫ', 'tɕ', 'ɨ', 'ʂ', 'ʐ']"
   ]
  },
  {
   "cell_type": "code",
   "execution_count": 7,
   "id": "thousand-saint",
   "metadata": {
    "scrolled": true
   },
   "outputs": [],
   "source": [
    "with open('data/map/urum_xsampa-to-ipa.txt', 'r') as f3:\n",
    "    all_urum_phones = [line.strip().split('\\t')[1] for line in f3.readlines()]"
   ]
  },
  {
   "cell_type": "code",
   "execution_count": 45,
   "id": "certified-locking",
   "metadata": {},
   "outputs": [
    {
     "name": "stdout",
     "output_type": "stream",
     "text": [
      "dː ['d'] ['d'] ['d']\n",
      "lː ['l'] ['l'] ['l']\n",
      "mː ['m'] ['m'] ['m']\n",
      "r ['ɾ'] ['ɾ'] ['ɾ']\n",
      "sː ['s'] ['s'] ['s']\n",
      "tː ['t'] ['t'] ['t']\n",
      "x ['ç'] ['k', 'ç'] ['k', 'ç']\n",
      "y ['ʉ'] ['u', 'ʉ'] ['ʉ']\n",
      "œ ['ɔ', 'ɛ'] ['ɔ', 'ɛ'] ['ɔ', 'ɛ']\n",
      "ɣ ['ç'] ['ɡ'] ['ɡ']\n",
      "ɯ ['ə', 'ɪ', 'ʊ'] ['ə', 'ɪ', 'ʊ'] ['ə', 'ɪ', 'ʊ']\n"
     ]
    }
   ],
   "source": [
    "for urum_phone in urum_phones:\n",
    "    print(urum_phone, closest_phones(urum_phone, eng_phones, 'weighted'), \n",
    "          closest_phones(urum_phone, eng_phones, 'hamming'),\n",
    "          closest_phones(urum_phone, eng_phones, 'feature'))"
   ]
  },
  {
   "cell_type": "code",
   "execution_count": 9,
   "id": "linear-wrestling",
   "metadata": {},
   "outputs": [
    {
     "name": "stdout",
     "output_type": "stream",
     "text": [
      "ɫ ['ɫ'] ['ɫ'] ['ɫ']\n",
      "tɕ ['tʃ'] ['tʃ'] ['tʃ']\n",
      "ɨ ['i', 'ɐ', 'ɜ'] ['i', 'ɐ', 'ɜ'] ['i', 'ɐ', 'ɜ']\n",
      "ʂ ['ʃ'] ['s', 'ʃ', 'ʈ'] ['s', 'ʃ', 'ʈ']\n",
      "ʐ ['ʒ'] ['z', 'ɖ', 'ʒ'] ['z', 'ɖ', 'ʒ']\n"
     ]
    }
   ],
   "source": [
    "for russ_phone in russ_not_eng_phones:\n",
    "    print(russ_phone, closest_phones(russ_phone, eng_phones, 'weighted'), \n",
    "          closest_phones(russ_phone, eng_phones, 'hamming'),\n",
    "          closest_phones(russ_phone, eng_phones, 'feature'))"
   ]
  },
  {
   "cell_type": "code",
   "execution_count": 18,
   "id": "indonesian-princess",
   "metadata": {},
   "outputs": [
    {
     "name": "stdout",
     "output_type": "stream",
     "text": [
      "ɫ ['ɫ'] ['ɫ'] ['ɫ']\n",
      "tɕ ['tʃ'] ['tʃ'] ['tʃ']\n",
      "ɨ ['ɯ'] ['ɯ', 'i'] ['ɯ', 'i']\n",
      "ʂ ['ʃ'] ['ʃ', 's'] ['ʃ', 's']\n",
      "ʐ ['ʒ'] ['ʒ', 'z'] ['ʒ', 'z']\n"
     ]
    }
   ],
   "source": [
    "for russ_phone in russ_not_eng_phones:\n",
    "    print(russ_phone, closest_phones(russ_phone, all_urum_phones, 'weighted'), \n",
    "          closest_phones(russ_phone, all_urum_phones, 'hamming'),\n",
    "          closest_phones(russ_phone, all_urum_phones, 'feature'))"
   ]
  },
  {
   "cell_type": "code",
   "execution_count": 16,
   "id": "associate-reaction",
   "metadata": {},
   "outputs": [
    {
     "name": "stdout",
     "output_type": "stream",
     "text": [
      "ɾ\tr\n",
      "œ\tɛ\n",
      "ɯ\tɨ\n",
      "ʃ\tʂ\n",
      "ʒ\tʐ\n",
      "d\td̪\n",
      "dː\td̪ː\n",
      "dʒ\tdʐː\n",
      "l\tɫ\n",
      "lː\tɫː\n",
      "n\tn̪\n",
      "s\ts̪\n",
      "sː\ts̪ː\n",
      "t\tt̪\n",
      "tː\tt̪ː\n",
      "tʃ\ttʂ\n",
      "y\tʉ\n",
      "z\tz̪\n"
     ]
    }
   ],
   "source": [
    "for urum_phone in all_urum_phones:\n",
    "    if urum_phone in rus_phones:\n",
    "        continue\n",
    "        \n",
    "#     print(urum_phone, closest_phones(urum_phone, rus_phones, 'weighted'), \n",
    "#           closest_phones(urum_phone, rus_phones, 'hamming'),\n",
    "#           closest_phones(urum_phone, rus_phones, 'feature'))\n",
    "    print(f'{urum_phone}\\t{closest_phones(urum_phone, rus_phones, \"weighted\")[0]}')"
   ]
  },
  {
   "cell_type": "code",
   "execution_count": 15,
   "id": "disabled-liverpool",
   "metadata": {},
   "outputs": [
    {
     "name": "stdout",
     "output_type": "stream",
     "text": [
      "True\n",
      "True\n",
      "True\n",
      "True\n",
      "True\n"
     ]
    }
   ],
   "source": [
    "for russ_phone in russ_not_eng_phones:\n",
    "    print(russ_phone in rus_phones)"
   ]
  },
  {
   "cell_type": "code",
   "execution_count": null,
   "id": "structured-polls",
   "metadata": {},
   "outputs": [],
   "source": []
  }
 ],
 "metadata": {
  "kernelspec": {
   "display_name": "Python 3",
   "language": "python",
   "name": "python3"
  },
  "language_info": {
   "codemirror_mode": {
    "name": "ipython",
    "version": 3
   },
   "file_extension": ".py",
   "mimetype": "text/x-python",
   "name": "python",
   "nbconvert_exporter": "python",
   "pygments_lexer": "ipython3",
   "version": "3.9.0"
  }
 },
 "nbformat": 4,
 "nbformat_minor": 5
}
