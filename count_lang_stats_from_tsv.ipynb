{
 "cells": [
  {
   "cell_type": "code",
   "execution_count": 1,
   "id": "suffering-rolling",
   "metadata": {},
   "outputs": [],
   "source": [
    "import sys\n",
    "import matplotlib.pyplot as plt\n",
    "import pandas as pd\n",
    "from collections import defaultdict"
   ]
  },
  {
   "cell_type": "code",
   "execution_count": 2,
   "id": "instrumental-fraction",
   "metadata": {},
   "outputs": [],
   "source": [
    "tsv_infile = 'data/eleanor/8.tsv'\n",
    "\n",
    "df = pd.read_csv(tsv_infile, encoding='utf-16', sep='\\t',\n",
    "                names=['file_id', 'word', 'word_start', 'word_end',\n",
    "                        'utt_num', 'utt_start', 'utt_end', 'utt_dur'])\n",
    "\n",
    "# print(df)\n",
    "file_id_list = sorted(df['file_id'].unique())\n",
    "# print(len(file_id_list))"
   ]
  },
  {
   "cell_type": "code",
   "execution_count": 80,
   "id": "coastal-devon",
   "metadata": {},
   "outputs": [
    {
     "name": "stdout",
     "output_type": "stream",
     "text": [
      "1\n",
      "2\n",
      "1\n",
      "2\n",
      "3\n",
      "4\n",
      "3\n",
      "3\n",
      "1\n",
      "3\n"
     ]
    }
   ],
   "source": [
    "spkr_dict = {}  # spkr_dict[spkr_id][urum, russ, mix] = int\n",
    "utt_words = defaultdict(list)\n",
    "# iterate utt by utt\n",
    "for file_id in file_id_list:\n",
    "#     print(file_id)\n",
    "    spkr_id = file_id.split('-')[-1]  # ex. 'A01'\n",
    "    if spkr_id not in spkr_dict:\n",
    "        spkr_dict[spkr_id] = defaultdict(int)\n",
    "\n",
    "    file_df = df[df['file_id'] == file_id]\n",
    "#     print(file_df)\n",
    "    current_utt_idx = 1\n",
    "\n",
    "    last_utt_idx = file_df['utt_num'].iloc[-1]\n",
    "    # print(last_utt_idx)\n",
    "\n",
    "    while current_utt_idx <= last_utt_idx:\n",
    "        utt_rows_df = file_df[file_df['utt_num'] == current_utt_idx]\n",
    "        # print(len(utt_rows_df))\n",
    "#         print(utt_rows_df)\n",
    "\n",
    "        # if only 1 row, it's either <p:> (skip), or <<fm>>\n",
    "        if len(utt_rows_df) == 1:\n",
    "#             print(current_utt_idx, utt_rows_df['word'].iloc[0])\n",
    "            # import pdb; pdb.set_trace()\n",
    "            if utt_rows_df['word'].iloc[0] == '<p:>':\n",
    "                current_utt_idx += 1\n",
    "                continue\n",
    "            if utt_rows_df['word'].iloc[0] == '<<fm>>':\n",
    "                spkr_dict[spkr_id]['russ'] += 1\n",
    "                print(spkr_dict[spkr_id]['russ'])\n",
    "                current_utt_idx += 1\n",
    "                continue\n",
    "\n",
    "        # check if there's any FM in here.\n",
    "        # possibly all words are tagged with FM\n",
    "        utt_word_list = utt_rows_df['word']\n",
    "        keep_words = [keep for keep in utt_word_list \n",
    "                      if keep not in ['<p:>', '<<fp>>', '<<ui>>', '<<fs>>']]\n",
    "        if not keep_words:\n",
    "            current_utt_idx += 1\n",
    "            continue\n",
    "        is_russ = False\n",
    "        is_urum = False\n",
    "        for word in keep_words:\n",
    "            if word.startswith('<<fm>'):\n",
    "                is_russ = True\n",
    "            else:\n",
    "                is_urum = True\n",
    "\n",
    "        if is_russ and is_urum:\n",
    "            spkr_dict[spkr_id]['mix'] += 1\n",
    "            utt_words['mix'].append(keep_words)\n",
    "            # print(f'MIX: {keep_words}')\n",
    "        elif is_russ:\n",
    "            spkr_dict[spkr_id]['russ'] += 1\n",
    "            utt_words['russ'].append(keep_words)\n",
    "            # print(f'RUSS: {keep_words}')\n",
    "        elif is_urum:\n",
    "            spkr_dict[spkr_id]['urum'] += 1\n",
    "            utt_words['urum'].append(keep_words)\n",
    "            # print(f'URUM: {keep_words}')\n",
    "        else:\n",
    "            print('none of the above')\n",
    "            print(keep_words)\n",
    "\n",
    "        current_utt_idx += 1\n",
    "#     break"
   ]
  },
  {
   "cell_type": "code",
   "execution_count": 81,
   "id": "scientific-printing",
   "metadata": {},
   "outputs": [],
   "source": [
    "# write utt_words to file\n",
    "with open('data/all_utts_by_lang.txt', 'w') as w:\n",
    "    for lang, utt_list in utt_words.items():\n",
    "        w.write(f'{lang} *****\\n')\n",
    "        for utt in utt_list:\n",
    "            w.write(' '.join(utt) + '\\n')\n",
    "        w.write('\\n\\n')"
   ]
  },
  {
   "cell_type": "code",
   "execution_count": 82,
   "id": "cloudy-saturn",
   "metadata": {},
   "outputs": [
    {
     "name": "stdout",
     "output_type": "stream",
     "text": [
      "1375\n"
     ]
    }
   ],
   "source": [
    "# count total utts\n",
    "total_utts = 0\n",
    "for spkr in spkr_dict:\n",
    "    for lang_count in spkr_dict[spkr].values():\n",
    "        total_utts += lang_count\n",
    "print(total_utts)"
   ]
  },
  {
   "cell_type": "code",
   "execution_count": 83,
   "id": "received-respect",
   "metadata": {},
   "outputs": [
    {
     "name": "stdout",
     "output_type": "stream",
     "text": [
      "defaultdict(<class 'int'>, {'urum': 753, 'mix': 582, 'russ': 40})\n"
     ]
    }
   ],
   "source": [
    "# count all utts by lang\n",
    "lang_dict = defaultdict(int)\n",
    "for spkr in spkr_dict:\n",
    "    for lang, lang_count in spkr_dict[spkr].items():\n",
    "        lang_dict[lang] += lang_count\n",
    "print(lang_dict)"
   ]
  },
  {
   "cell_type": "code",
   "execution_count": 84,
   "id": "automatic-tackle",
   "metadata": {},
   "outputs": [
    {
     "name": "stdout",
     "output_type": "stream",
     "text": [
      "urum: 1\n",
      "russ: 0\n",
      "mix: 29\n"
     ]
    }
   ],
   "source": [
    "# count lang use across speakers\n",
    "urum_only = 0\n",
    "russ_only = 0\n",
    "mix_ct = 0\n",
    "for spkr in spkr_dict:\n",
    "    langs = spkr_dict[spkr].keys()\n",
    "    if 'mix' in langs:\n",
    "        mix_ct += 1\n",
    "#         print(f'MIX SPKR: {spkr}')\n",
    "    elif 'urum' in langs:\n",
    "        urum_only += 1\n",
    "    elif 'russ' in langs:\n",
    "        russ_only += 1\n",
    "    else:\n",
    "        print(f'empty speaker? {spkr}')  # doesn't hit\n",
    "        \n",
    "print(f'urum: {urum_only}')\n",
    "print(f'russ: {russ_only}')\n",
    "print(f'mix: {mix_ct}')"
   ]
  },
  {
   "cell_type": "code",
   "execution_count": 50,
   "id": "artificial-synthesis",
   "metadata": {},
   "outputs": [
    {
     "name": "stdout",
     "output_type": "stream",
     "text": [
      "dict_keys(['A01', 'A02', 'A03', 'A04', 'A05', 'A06', 'A07', 'A08', 'A09', 'A10', 'A11', 'A12', 'A13', 'A14', 'A15', 'A16', 'B01', 'B02', 'B03', 'B04', 'B06', 'B07', 'B08', 'B10', 'B11', 'B12', 'B13', 'B14', 'B16', 'B09'])\n"
     ]
    }
   ],
   "source": [
    "print(spkr_dict.keys())  # B05 and B15 not present in doreco textgrids)"
   ]
  },
  {
   "cell_type": "code",
   "execution_count": 85,
   "id": "serious-developer",
   "metadata": {},
   "outputs": [
    {
     "data": {
      "text/plain": [
       "{'A01': defaultdict(int, {'urum': 25, 'mix': 25, 'russ': 2}),\n",
       " 'A02': defaultdict(int, {'urum': 29, 'mix': 28, 'russ': 6}),\n",
       " 'A03': defaultdict(int, {'mix': 47, 'russ': 8, 'urum': 16}),\n",
       " 'A04': defaultdict(int, {'mix': 22, 'urum': 35}),\n",
       " 'A05': defaultdict(int, {'urum': 22, 'russ': 7, 'mix': 27}),\n",
       " 'A06': defaultdict(int, {'urum': 31, 'mix': 25, 'russ': 1}),\n",
       " 'A07': defaultdict(int, {'mix': 40, 'urum': 18, 'russ': 2}),\n",
       " 'A08': defaultdict(int, {'urum': 25, 'mix': 24, 'russ': 2}),\n",
       " 'A09': defaultdict(int, {'mix': 32, 'urum': 28, 'russ': 3}),\n",
       " 'A10': defaultdict(int, {'urum': 30, 'mix': 27}),\n",
       " 'A11': defaultdict(int, {'mix': 23, 'russ': 2, 'urum': 18}),\n",
       " 'A12': defaultdict(int, {'urum': 28, 'mix': 19}),\n",
       " 'A13': defaultdict(int, {'urum': 26, 'mix': 27}),\n",
       " 'A14': defaultdict(int, {'mix': 33, 'urum': 12}),\n",
       " 'A15': defaultdict(int, {'urum': 21, 'mix': 18, 'russ': 1}),\n",
       " 'A16': defaultdict(int, {'urum': 28, 'mix': 41}),\n",
       " 'B01': defaultdict(int, {'urum': 30, 'mix': 13}),\n",
       " 'B02': defaultdict(int, {'urum': 31, 'mix': 7}),\n",
       " 'B03': defaultdict(int, {'urum': 24, 'mix': 12}),\n",
       " 'B04': defaultdict(int, {'mix': 10, 'urum': 21}),\n",
       " 'B06': defaultdict(int, {'urum': 31, 'mix': 5}),\n",
       " 'B07': defaultdict(int, {'urum': 35, 'mix': 4}),\n",
       " 'B08': defaultdict(int, {'urum': 27, 'mix': 14}),\n",
       " 'B10': defaultdict(int, {'urum': 26, 'mix': 12}),\n",
       " 'B11': defaultdict(int, {'urum': 23, 'mix': 12}),\n",
       " 'B12': defaultdict(int, {'mix': 9, 'urum': 31, 'russ': 1}),\n",
       " 'B13': defaultdict(int, {'urum': 15}),\n",
       " 'B14': defaultdict(int, {'mix': 18, 'urum': 32, 'russ': 1}),\n",
       " 'B16': defaultdict(int, {'russ': 4, 'urum': 21, 'mix': 7}),\n",
       " 'B09': defaultdict(int, {'urum': 14, 'mix': 1})}"
      ]
     },
     "execution_count": 85,
     "metadata": {},
     "output_type": "execute_result"
    }
   ],
   "source": [
    "spkr_dict"
   ]
  },
  {
   "cell_type": "code",
   "execution_count": 86,
   "id": "southern-humidity",
   "metadata": {},
   "outputs": [],
   "source": [
    "# visualize utt langs by speaker\n",
    "cols = ['spkr', 'Urum only', 'Code-switched', 'Russian only']\n",
    "sorted_spkrs = sorted(spkr_dict.keys())\n",
    "urum_utts_by_spkr = [spkr_dict[spkr]['urum'] if 'urum' in spkr_dict[spkr] else 0 for spkr in sorted_spkrs]\n",
    "russ_utts_by_spkr = [spkr_dict[spkr]['russ'] if 'russ' in spkr_dict[spkr] else 0 for spkr in sorted_spkrs]\n",
    "mix_utts_by_spkr = [spkr_dict[spkr]['mix'] if 'mix' in spkr_dict[spkr] else 0 for spkr in sorted_spkrs]\n",
    "\n",
    "utt_langs_by_spkr_df = pd.DataFrame({'spkr': sorted_spkrs, \n",
    "                                  'Urum only': urum_utts_by_spkr,\n",
    "                                 'Code-switched': mix_utts_by_spkr, \n",
    "                                  'Russian only': russ_utts_by_spkr})"
   ]
  },
  {
   "cell_type": "code",
   "execution_count": 87,
   "id": "fitted-brown",
   "metadata": {},
   "outputs": [
    {
     "data": {
      "text/plain": [
       "<matplotlib.legend.Legend at 0x11c2f3d90>"
      ]
     },
     "execution_count": 87,
     "metadata": {},
     "output_type": "execute_result"
    },
    {
     "data": {
      "image/png": "[encoded data removed]",
      "text/plain": [
       "<Figure size 432x288 with 1 Axes>"
      ]
     },
     "metadata": {
      "needs_background": "light"
     },
     "output_type": "display_data"
    }
   ],
   "source": [
    "ax = utt_langs_by_spkr_df.plot( \n",
    "        x = 'spkr', \n",
    "        kind = 'barh', \n",
    "        stacked = True, \n",
    "        title = 'Stacked Bar Graph', \n",
    "        mark_right = True) \n",
    "ax.legend(bbox_to_anchor=(1.0, 0.85))"
   ]
  },
  {
   "cell_type": "code",
   "execution_count": null,
   "id": "mediterranean-confidence",
   "metadata": {},
   "outputs": [],
   "source": []
  }
 ],
 "metadata": {
  "kernelspec": {
   "display_name": "Python 3",
   "language": "python",
   "name": "python3"
  },
  "language_info": {
   "codemirror_mode": {
    "name": "ipython",
    "version": 3
   },
   "file_extension": ".py",
   "mimetype": "text/x-python",
   "name": "python",
   "nbconvert_exporter": "python",
   "pygments_lexer": "ipython3",
   "version": "3.9.0"
  }
 },
 "nbformat": 4,
 "nbformat_minor": 5
}
